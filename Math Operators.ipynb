{
 "cells": [
  {
   "cell_type": "markdown",
   "metadata": {},
   "source": [
    "# Tasks\n",
    "## Notes: \n",
    "### User Input\n",
    "* Polyglot Notebooks do not normally support **`Console.ReadLine();`** or **`Console.ReadKey();`**.\n",
    "If you want to use the Notebook for tasks involving User Input.\n",
    "* Use a fixed value instead.  \n",
    "* Add the equivalent **`Console.ReadLine();`** as a comment behind.  \n",
    "    * For Example **`string input = Console.ReadLine();`** could become **`string input = \"Hello World\"; //string input = Console.ReadLine();`**.\n",
    "* If you are not getting a string input you should include the required parsing, and enter your fixed value as a string.\n",
    "    * For Example **`int input = int.Parse(Console.ReadLine());`** could become **`int input = int.Parse(\"100\"); //int input = int.Parse(Console.ReadLine());`**\n",
    "* You may also find it beneficial to write out the fixed value in a **`Console.WriteLine()*`* to get a similar appearance to a user inputting the value. You should also leave a comment explaining what the line is such as **`Display X as if user entered it`** where **`X`** is the variable inputted.\n",
    "    * For example **`Console.WriteLine(input); // Display input as if user entered it`** \n",
    "\n",
    "## Question 1\n",
    "Ask the user to input the price of a new car and a percentage discount. Calculate and display the price after the discount."
   ]
  },
  {
   "cell_type": "code",
   "execution_count": null,
   "metadata": {
    "dotnet_interactive": {
     "language": "csharp"
    },
    "vscode": {
     "languageId": "dotnet-interactive.csharp"
    }
   },
   "outputs": [],
   "source": []
  },
  {
   "cell_type": "markdown",
   "metadata": {},
   "source": [
    "## Question 2\n",
    "Write a program to convert degrees Fahrenheit (°F) to degrees celcius (°C) by:\n",
    "1. Asking the user for a temperature in °F .\n",
    "2. Calculating the equivalent temperature in °C.\n",
    "3. Display the result in the console.\n",
    "\n",
    "### Formula Needed\n",
    "* Fahrenheit to Celcius: **`°C = (5 / 9) * (°F - 32)`**"
   ]
  },
  {
   "cell_type": "code",
   "execution_count": null,
   "metadata": {
    "dotnet_interactive": {
     "language": "csharp"
    },
    "vscode": {
     "languageId": "dotnet-interactive.csharp"
    }
   },
   "outputs": [],
   "source": []
  },
  {
   "cell_type": "markdown",
   "metadata": {},
   "source": [
    "## Question 3\n",
    "Write a program to convert degrees Celcius (°C) to degrees Fahrenheit (°F).\n",
    "* Use a similar method to the previous question.\n",
    "* You will need to convert the previous formula.\n",
    "* If you cannot work out how to convert the formula check the section below.\n",
    "\n",
    "<details>\n",
    "    <summary>Converted Formula</summary>\n",
    "    <p>The formula you will need is: <b><code>°F = ((9 / 5) * °C) + 32.</code></b></p>\n",
    "    <p>Try to get used to converting formulas, a good understanding of maths is important for programming!</p>\n",
    "</details>\n"
   ]
  },
  {
   "cell_type": "code",
   "execution_count": null,
   "metadata": {
    "dotnet_interactive": {
     "language": "csharp"
    },
    "vscode": {
     "languageId": "dotnet-interactive.csharp"
    }
   },
   "outputs": [],
   "source": []
  },
  {
   "cell_type": "markdown",
   "metadata": {},
   "source": [
    "## Question 4\n",
    "Write a program that reads in the radius of a circle in centimetres (r) and prints the circle's ***diameter***, ***circumference*** and ***area*** to 3 decimal places.\n",
    "* The value of π (pi) is available using `Math.PI`.\n",
    "### Formulas Needed\n",
    "* Area of a Circle = **` π * r^2`**\n",
    "* Circumference of a Circle = **`2 * π * r`**\n",
    "* Diameter of a Circle = **`2 * r`**\n",
    "* Radius of a Circle = **`r`**"
   ]
  },
  {
   "cell_type": "code",
   "execution_count": null,
   "metadata": {
    "dotnet_interactive": {
     "language": "csharp"
    },
    "vscode": {
     "languageId": "dotnet-interactive.csharp"
    }
   },
   "outputs": [],
   "source": []
  },
  {
   "cell_type": "markdown",
   "metadata": {},
   "source": [
    "## Question 5\n",
    "Write a program that calculates the ***volume*** of a ***Cone***, ***Cylinder***, ***Rectangular Base Pyramid*** and a ***Sphere***.  \n",
    "* You can use the same values for each calculation or get them all individually.\n",
    "* You could also split this into 4 programs.\n",
    "### Formulas Needed\n",
    "* Volume of a Cone Volume = **`π * r^2 * (h/3)`**\n",
    "* Volume of a Cylinder Volume = **`π * r^2 * h`**\n",
    "* Volume of a Rectangular Base Pyramid = **`(L * W * H) / 3`**\n",
    "* Volume of a Sphere = **`((4/3) * π) * r^3`**"
   ]
  },
  {
   "cell_type": "code",
   "execution_count": null,
   "metadata": {
    "dotnet_interactive": {
     "language": "csharp"
    },
    "vscode": {
     "languageId": "dotnet-interactive.csharp"
    }
   },
   "outputs": [],
   "source": []
  },
  {
   "cell_type": "markdown",
   "metadata": {},
   "source": [
    "# Extension Task\n",
    "Write a program that:\n",
    "1. Asks the user for a 5 digit integer number\n",
    "2. Seperates the number into its individual digits\n",
    "3. Print the individual digits seperated by spaces.\n",
    "Consider how you can use Modulus and Division to seperate digits.\n",
    "\n",
    "If you finish this task look into arrays and for loops to help you:\n",
    "1. Find an alternative method using your string as an array of characters\n",
    "2. Expand your program using the first method to work with any length of number.\n",
    "<details>\n",
    "    <summary>Exta Help</summary>\n",
    "    We count in a Base 10 number system. \n",
    "    <ul>\n",
    "    <li>This means that we use numbers from 0-9 giving us 10 options.</li>\n",
    "    <li>When we go above 9 we go back to 0 and add another number onto the left.</li>\n",
    "    <ul>\n",
    "        <li>9 + 1 = 10</li>\n",
    "    </ul>\n",
    "    <li>Counting individual digits from right to left we can see that it follows a pattern</li>\n",
    "    <ul>\n",
    "        <li>N = Digit</li>\n",
    "        <li>P = How many digits are to the left of N</li>\n",
    "        <li>Value = N * 10^P</li>\n",
    "    </ul>\n",
    "    <ul>\n",
    "        <li>Examples of this pattern are</li>\n",
    "        <ul>\n",
    "            <li>With the number 123\n",
    "            <ul>\n",
    "                <li>1</li>\n",
    "                <ul>\n",
    "                    <li>N = 1</li>\n",
    "                    <li>P = 2</li>\n",
    "                    <li>100 = 1 * 10^2</li>\n",
    "                </ul>\n",
    "            </ul>\n",
    "            <ul>\n",
    "                <li>2</li>\n",
    "                <ul>\n",
    "                    <li>N = 2</li>\n",
    "                    <li>P = 1</li>\n",
    "                    <li>20 = 2 * 10^1</li>\n",
    "                </ul>\n",
    "            </ul>\n",
    "            <ul>\n",
    "                <li>3</li>\n",
    "                <ul>\n",
    "                    <li>N = 3</li>\n",
    "                    <li>P = 0</li>\n",
    "                    <li>3 = 3 * 10^0</li>\n",
    "                </ul>\n",
    "            </ul>\n",
    "        </ul>\n",
    "    </ul>\n",
    "    <p>From this we can work out the value each digit is multipled by to get its actual value. (10000, 1000, 100, 10, 1)<br>\n",
    "    Try applying the divsion and modulus to this value for each digit. This should get your closer to your answer.</p>\n",
    "</details>"
   ]
  },
  {
   "cell_type": "code",
   "execution_count": null,
   "metadata": {
    "dotnet_interactive": {
     "language": "csharp"
    },
    "vscode": {
     "languageId": "dotnet-interactive.csharp"
    }
   },
   "outputs": [],
   "source": []
  }
 ],
 "metadata": {
  "custom": {
   "cells": [],
   "metadata": {
    "kernelspec": {
     "display_name": ".NET (C#)",
     "language": "C#",
     "name": ".net-csharp"
    },
    "language_info": {
     "name": "C#"
    }
   },
   "nbformat": 4,
   "nbformat_minor": 2
  },
  "indentAmount": " ",
  "kernelspec": {
   "display_name": ".NET (C#)",
   "language": "C#",
   "name": ".net-csharp"
  },
  "language_info": {
   "file_extension": ".cs",
   "mimetype": "text/x-csharp",
   "name": "C#",
   "pygments_lexer": "csharp",
   "version": "9.0"
  },
  "vscode": {
   "interpreter": {
    "hash": "96d2be0fdd52bc94cfa3c69ee2f2ccf320a263e7b8c4a7b8432367bb36f04515"
   }
  }
 },
 "nbformat": 4,
 "nbformat_minor": 5
}
